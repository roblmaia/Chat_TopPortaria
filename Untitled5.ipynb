{
  "nbformat": 4,
  "nbformat_minor": 0,
  "metadata": {
    "colab": {
      "provenance": [],
      "authorship_tag": "ABX9TyPvebYDwSBcnyp6cYCvd5oa",
      "include_colab_link": true
    },
    "kernelspec": {
      "name": "python3",
      "display_name": "Python 3"
    },
    "language_info": {
      "name": "python"
    }
  },
  "cells": [
    {
      "cell_type": "markdown",
      "metadata": {
        "id": "view-in-github",
        "colab_type": "text"
      },
      "source": [
        "<a href=\"https://colab.research.google.com/github/roblmaia/Chat_TopPortaria/blob/main/Untitled5.ipynb\" target=\"_parent\"><img src=\"https://colab.research.google.com/assets/colab-badge.svg\" alt=\"Open In Colab\"/></a>"
      ]
    },
    {
      "cell_type": "code",
      "execution_count": 47,
      "metadata": {
        "id": "Av7JeYHxIfaZ"
      },
      "outputs": [],
      "source": [
        "!pip install -q -U google-generativeai\n",
        "!pip install -q -U requests\n",
        "!pip install -q -U PyPDF2"
      ]
    },
    {
      "cell_type": "code",
      "source": [
        "import requests\n",
        "import io\n",
        "\n",
        "from PyPDF2 import PdfReader\n",
        "\n",
        "import google.generativeai as genai"
      ],
      "metadata": {
        "id": "Wr6cHiYAk1Gn"
      },
      "execution_count": null,
      "outputs": []
    },
    {
      "cell_type": "code",
      "source": [
        "genai.configure(api_key=\"\")"
      ],
      "metadata": {
        "id": "OcfhTm1sk5g_"
      },
      "execution_count": null,
      "outputs": []
    },
    {
      "cell_type": "code",
      "source": [
        "# Set up the model\n",
        "generation_config = {\n",
        "  \"candidate_count\": 1,\n",
        "  \"temperature\": 1,\n",
        "  \"top_p\": 0.95,\n",
        "  \"top_k\": 0,\n",
        "  \"max_output_tokens\": 8192,\n",
        "}\n",
        "\n",
        "safety_settings = {\n",
        "  \"HATE\": \"BLOCK_NONE\",\n",
        "  \"HARASSMENT\": \"BLOCK_NONE\",\n",
        "  \"SEXUAL\" : \"BLOCK_NONE\",\n",
        "  \"DANGEROUS\" : \"BLOCK_NONE\",\n",
        "}\n",
        "\n"
      ],
      "metadata": {
        "id": "DgAw6si9VKwq"
      },
      "execution_count": 38,
      "outputs": []
    },
    {
      "cell_type": "code",
      "source": [
        "model = genai.GenerativeModel(model_name=\"gemini-1.5-pro-latest\",\n",
        "                              generation_config=generation_config,\n",
        "                              safety_settings=safety_settings)\n",
        "\n"
      ],
      "metadata": {
        "id": "O4C5Jm4oVPBn"
      },
      "execution_count": 33,
      "outputs": []
    },
    {
      "cell_type": "code",
      "source": [
        "def extract_pdf_pages_from_dropbox(dropbox_link: str) -> list[str]:\n",
        "    \"\"\"Baixa o PDF do Dropbox e extrai as páginas.\"\"\"\n",
        "    response = requests.get(dropbox_link)\n",
        "    response.raise_for_status()\n",
        "\n",
        "    pdf_content = io.BytesIO(response.content)\n",
        "\n",
        "    reader = PdfReader(pdf_content)\n",
        "\n",
        "    parts = [f\"--- START OF PDF ---\"]\n",
        "    pages = []\n",
        "    for index, page in enumerate(reader.pages):\n",
        "        parts.append(f\"--- PAGE {index} ---\")\n",
        "        parts.append(page.extract_text())\n",
        "\n",
        "    return parts\n",
        "\n",
        "# Exemplo de uso:\n",
        "dropbox_url = \"https://www.dropbox.com/scl/fi/tesp6s33usmhdnvgbxw22/Manual-TopPortaria.pdf?rlkey=69pggtfz1v0mw0729jciy6f1a&st=c68bz9bh&dl=1\"\n"
      ],
      "metadata": {
        "id": "LVnA5Ra-VTWy"
      },
      "execution_count": 34,
      "outputs": []
    },
    {
      "cell_type": "code",
      "source": [
        "convo = model.start_chat(history=[\n",
        "  {\n",
        "    \"role\": \"user\",\n",
        "    \"parts\": [\"Você presta suporte tecnico para a empresa Topdata e dará informações sobre o produto TopPortaria. Como base você usa o manual do produto para passar as informações. A linguagem que você usa é uma linguagem simples, para se comunicar com pessoas leigas.\"]\n",
        "  },\n",
        "  {\n",
        "    \"role\": \"user\",\n",
        "    \"parts\": extract_pdf_pages_from_dropbox(dropbox_url)\n",
        "  },\n",
        "  {\n",
        "    \"role\": \"user\",\n",
        "    \"parts\": [\"responda as perguntas que lhe serão feitas.\"]\n",
        "  },\n",
        "  {\n",
        "    \"role\": \"model\",\n",
        "    \"parts\": [\"Olá! Estou aqui para te auxiliar com qualquer dúvida que você tenha sobre o TopPortaria. Pode perguntar!\"]\n",
        "  },\n",
        "])\n",
        "\n"
      ],
      "metadata": {
        "id": "FLDN6OvBVWfe"
      },
      "execution_count": 40,
      "outputs": []
    },
    {
      "cell_type": "code",
      "source": [
        "prompt = input(\"Suporte TopPortaria: Olá! Estou aqui para te auxiliar com qualquer dúvida que você tenha sobre o TopPortaria. Pode perguntar!\\n\")\n",
        "\n",
        "while prompt != \"fim\":\n",
        "  resposta = convo.send_message(prompt)\n",
        "  print(\"Resposta: \\n\", resposta.text, \"\\n\\n\")\n",
        "  prompt = input(\"Suporte RopPortaria: Teria outra pergunta? Estou aqui para ajudar! Para finalizar digite fim \\n\")"
      ],
      "metadata": {
        "id": "7sJnaM1BVY-9"
      },
      "execution_count": null,
      "outputs": []
    }
  ]
}