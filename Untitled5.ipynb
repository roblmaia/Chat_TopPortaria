{
  "nbformat": 4,
  "nbformat_minor": 0,
  "metadata": {
    "colab": {
      "provenance": [],
      "authorship_tag": "ABX9TyM8VR27fCQL1PveK+R/qE57",
      "include_colab_link": true
    },
    "kernelspec": {
      "name": "python3",
      "display_name": "Python 3"
    },
    "language_info": {
      "name": "python"
    }
  },
  "cells": [
    {
      "cell_type": "markdown",
      "metadata": {
        "id": "view-in-github",
        "colab_type": "text"
      },
      "source": [
        "<a href=\"https://colab.research.google.com/github/roblmaia/Chat_TopPortaria/blob/main/Untitled5.ipynb\" target=\"_parent\"><img src=\"https://colab.research.google.com/assets/colab-badge.svg\" alt=\"Open In Colab\"/></a>"
      ]
    },
    {
      "cell_type": "code",
      "execution_count": 31,
      "metadata": {
        "id": "Av7JeYHxIfaZ"
      },
      "outputs": [],
      "source": [
        "\"\"\"\n",
        "At the command line, only need to run once to install the package via pip:\n",
        "\n",
        "$ pip install google-generativeai\n",
        "\"\"\"\n",
        "!pip install -q -U google-generativeai\n",
        "!pip install -q -U requests\n",
        "!pip install -q -U PyPDF2\n",
        "\n",
        "import requests\n",
        "import io\n",
        "\n",
        "from PyPDF2 import PdfReader\n",
        "\n",
        "import google.generativeai as genai\n",
        "\n",
        "genai.configure(api_key=\"\")\n",
        "\n"
      ]
    },
    {
      "cell_type": "code",
      "source": [
        "# Set up the model\n",
        "generation_config = {\n",
        "  \"temperature\": 1,\n",
        "  \"top_p\": 0.95,\n",
        "  \"top_k\": 0,\n",
        "  \"max_output_tokens\": 8192,\n",
        "}\n",
        "\n",
        "safety_settings = [\n",
        "  {\n",
        "    \"category\": \"HARM_CATEGORY_HARASSMENT\",\n",
        "    \"threshold\": \"BLOCK_MEDIUM_AND_ABOVE\"\n",
        "  },\n",
        "  {\n",
        "    \"category\": \"HARM_CATEGORY_HATE_SPEECH\",\n",
        "    \"threshold\": \"BLOCK_MEDIUM_AND_ABOVE\"\n",
        "  },\n",
        "  {\n",
        "    \"category\": \"HARM_CATEGORY_SEXUALLY_EXPLICIT\",\n",
        "    \"threshold\": \"BLOCK_MEDIUM_AND_ABOVE\"\n",
        "  },\n",
        "  {\n",
        "    \"category\": \"HARM_CATEGORY_DANGEROUS_CONTENT\",\n",
        "    \"threshold\": \"BLOCK_MEDIUM_AND_ABOVE\"\n",
        "  },\n",
        "]\n",
        "\n"
      ],
      "metadata": {
        "id": "DgAw6si9VKwq"
      },
      "execution_count": 21,
      "outputs": []
    },
    {
      "cell_type": "code",
      "source": [
        "model = genai.GenerativeModel(model_name=\"gemini-1.5-pro-latest\",\n",
        "                              generation_config=generation_config,\n",
        "                              safety_settings=safety_settings)\n",
        "\n"
      ],
      "metadata": {
        "id": "O4C5Jm4oVPBn"
      },
      "execution_count": 22,
      "outputs": []
    },
    {
      "cell_type": "code",
      "source": [
        "def extract_pdf_pages_from_dropbox(dropbox_link: str) -> list[str]:\n",
        "    \"\"\"Baixa o PDF do Dropbox e extrai as páginas.\"\"\"\n",
        "    response = requests.get(dropbox_link)\n",
        "    response.raise_for_status()\n",
        "\n",
        "    pdf_content = io.BytesIO(response.content)\n",
        "\n",
        "    reader = PdfReader(pdf_content)\n",
        "\n",
        "    parts = [f\"--- START OF PDF ---\"]\n",
        "    pages = []\n",
        "    for index, page in enumerate(reader.pages):\n",
        "        parts.append(f\"--- PAGE {index} ---\")\n",
        "        parts.append(page.extract_text())\n",
        "\n",
        "    return parts\n",
        "\n",
        "# Exemplo de uso:\n",
        "dropbox_url = \"https://www.dropbox.com/scl/fi/tesp6s33usmhdnvgbxw22/Manual-TopPortaria.pdf?rlkey=69pggtfz1v0mw0729jciy6f1a&st=c68bz9bh&dl=1\"\n"
      ],
      "metadata": {
        "id": "LVnA5Ra-VTWy"
      },
      "execution_count": 27,
      "outputs": []
    },
    {
      "cell_type": "code",
      "source": [
        "convo = model.start_chat(history=[\n",
        "  {\n",
        "    \"role\": \"user\",\n",
        "    \"parts\": [\"Você presta suporte tecnico para a empresa Topdata e dará informações sobre o produto TopPortaria. Como base você usa o manual do produto para passar as informações. A linguagem que você usa é uma linguagem simples, para se comunicar com pessoas leigas.\"]\n",
        "  },\n",
        "  {\n",
        "    \"role\": \"user\",\n",
        "    \"parts\": extract_pdf_pages_from_dropbox(dropbox_url)\n",
        "  },\n",
        "  {\n",
        "    \"role\": \"user\",\n",
        "    \"parts\": [\"responda as perguntas que lhe serão feitas.\"]\n",
        "  },\n",
        "  {\n",
        "    \"role\": \"model\",\n",
        "    \"parts\": [\"Olá! Estou aqui para te auxiliar com qualquer dúvida que você tenha sobre o TopPortaria. Pode perguntar!\"]\n",
        "  },\n",
        "])\n",
        "\n"
      ],
      "metadata": {
        "id": "FLDN6OvBVWfe"
      },
      "execution_count": 28,
      "outputs": []
    },
    {
      "cell_type": "code",
      "source": [
        "convo.send_message(\"como faço para instalar o sql express 2008?\")\n",
        "print(convo.last.text)"
      ],
      "metadata": {
        "colab": {
          "base_uri": "https://localhost:8080/",
          "height": 384
        },
        "id": "7sJnaM1BVY-9",
        "outputId": "bb7e5700-3bd1-47e0-86c3-008888ed2705"
      },
      "execution_count": 30,
      "outputs": [
        {
          "output_type": "stream",
          "name": "stdout",
          "text": [
            "A instalação do SQL Server 2008 Express é bem simples! O próprio instalador do TopPortaria te auxilia nesse processo. 😉\n",
            "\n",
            "**Siga estes passos:**\n",
            "\n",
            "1. **Execute o instalador do TopPortaria (\"Setup.exe\").**\n",
            "2. **Na tela de seleção do banco de dados, escolha \"Instalação TopPortaria com SQL Server\" e clique em \"OK\".**\n",
            "3. **O instalador mostrará os componentes necessários. Selecione a opção \"Microsoft SQL Server 2008 Express\" e clique em \"Instalar\".** \n",
            "    * **Importante:** Certifique-se de estar conectado à internet para que o instalador possa baixar os arquivos necessários.\n",
            "4. **Aguarde o download e a instalação do SQL Server 2008 Express.** Este processo pode levar alguns minutos. \n",
            "5. **Após a conclusão da instalação do SQL Server, o instalador continuará com a instalação do TopPortaria.**\n",
            "\n",
            "**Pronto!** O SQL Server 2008 Express estará instalado e pronto para ser usado pelo TopPortaria. 🎉\n",
            "\n",
            "**Dicas:**\n",
            "\n",
            "* **Leia atentamente as instruções na tela durante o processo de instalação.**\n",
            "* **Caso encontre algum problema durante a instalação, anote a mensagem de erro e entre em contato com o suporte técnico da Topdata.**\n",
            "\n",
            "Espero ter ajudado! 😊 \n",
            "\n"
          ]
        }
      ]
    }
  ]
}