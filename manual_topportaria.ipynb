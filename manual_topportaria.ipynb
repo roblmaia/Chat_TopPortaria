{
  "nbformat": 4,
  "nbformat_minor": 0,
  "metadata": {
    "colab": {
      "provenance": [],
      "authorship_tag": "ABX9TyOrujGrdP7vzJekG6mpa3YZ",
      "include_colab_link": true
    },
    "kernelspec": {
      "name": "python3",
      "display_name": "Python 3"
    },
    "language_info": {
      "name": "python"
    }
  },
  "cells": [
    {
      "cell_type": "markdown",
      "metadata": {
        "id": "view-in-github",
        "colab_type": "text"
      },
      "source": [
        "<a href=\"https://colab.research.google.com/github/roblmaia/Chat_TopPortaria/blob/main/manual_topportaria.ipynb\" target=\"_parent\"><img src=\"https://colab.research.google.com/assets/colab-badge.svg\" alt=\"Open In Colab\"/></a>"
      ]
    },
    {
      "cell_type": "code",
      "execution_count": null,
      "metadata": {
        "id": "Av7JeYHxIfaZ"
      },
      "outputs": [],
      "source": [
        "!pip install -q -U google-generativeai\n",
        "!pip install -q -U requests\n",
        "!pip install -q -U PyPDF2"
      ]
    },
    {
      "cell_type": "code",
      "source": [
        "import requests\n",
        "import io\n",
        "\n",
        "from PyPDF2 import PdfReader\n",
        "\n",
        "import google.generativeai as genai"
      ],
      "metadata": {
        "id": "Wr6cHiYAk1Gn"
      },
      "execution_count": null,
      "outputs": []
    },
    {
      "cell_type": "code",
      "source": [
        "genai.configure(api_key=\"\")"
      ],
      "metadata": {
        "id": "OcfhTm1sk5g_"
      },
      "execution_count": null,
      "outputs": []
    },
    {
      "cell_type": "code",
      "source": [
        "# Set up the model\n",
        "generation_config = {\n",
        "  \"candidate_count\": 1,\n",
        "  \"temperature\": 0.5,\n",
        "  \"top_p\": 0.95,\n",
        "  \"top_k\": 0,\n",
        "  \"max_output_tokens\": 8192,\n",
        "}\n",
        "\n",
        "safety_settings = {\n",
        "  \"HATE\": \"BLOCK_NONE\",\n",
        "  \"HARASSMENT\": \"BLOCK_NONE\",\n",
        "  \"SEXUAL\" : \"BLOCK_NONE\",\n",
        "  \"DANGEROUS\" : \"BLOCK_NONE\",\n",
        "}"
      ],
      "metadata": {
        "id": "DgAw6si9VKwq"
      },
      "execution_count": null,
      "outputs": []
    },
    {
      "cell_type": "code",
      "source": [
        "model = genai.GenerativeModel(model_name=\"gemini-1.5-pro-latest\",\n",
        "                              generation_config=generation_config,\n",
        "                              safety_settings=safety_settings)"
      ],
      "metadata": {
        "id": "O4C5Jm4oVPBn"
      },
      "execution_count": null,
      "outputs": []
    },
    {
      "cell_type": "code",
      "source": [
        "def extract_pdf_pages_from_dropbox(dropbox_link: str) -> list[str]:\n",
        "    \"\"\"Baixa o PDF do Dropbox e extrai as páginas.\"\"\"\n",
        "    response = requests.get(dropbox_link)\n",
        "    response.raise_for_status()\n",
        "\n",
        "    pdf_content = io.BytesIO(response.content)\n",
        "\n",
        "    reader = PdfReader(pdf_content)\n",
        "\n",
        "    parts = [f\"--- START OF PDF ---\"]\n",
        "    pages = []\n",
        "    for index, page in enumerate(reader.pages):\n",
        "        parts.append(f\"--- PAGE {index} ---\")\n",
        "        parts.append(page.extract_text())\n",
        "\n",
        "    return parts\n",
        "\n",
        "dropbox_url = \"https://www.dropbox.com/scl/fi/tesp6s33usmhdnvgbxw22/Manual-TopPortaria.pdf?rlkey=69pggtfz1v0mw0729jciy6f1a&st=c68bz9bh&dl=1\""
      ],
      "metadata": {
        "id": "LVnA5Ra-VTWy"
      },
      "execution_count": null,
      "outputs": []
    },
    {
      "cell_type": "code",
      "source": [
        "convo = model.start_chat(history=[\n",
        "  {\n",
        "    \"role\": \"user\",\n",
        "    \"parts\": [\"Você presta suporte tecnico para a empresa Topdata e dará informações sobre o produto TopPortaria. Como base você usa o manual do produto para passar as informações. A linguagem que você usa é uma linguagem simples, para se comunicar com pessoas leigas. Caso alguem fuja do assunto do TopPortaria ou do manual, exiba uma mensagem informando que essa pergunta não faz parte do TopPortaria e peça para repetir a pergunta. Use somente termos do manual. Caso haja uma pergunta relacionada com um termo parecido, corrija o termo e responda o que foi perguntado.\"]\n",
        "  },\n",
        "  {\n",
        "    \"role\": \"user\",\n",
        "    \"parts\": extract_pdf_pages_from_dropbox(dropbox_url)\n",
        "  },\n",
        "])"
      ],
      "metadata": {
        "id": "FLDN6OvBVWfe"
      },
      "execution_count": null,
      "outputs": []
    },
    {
      "cell_type": "code",
      "source": [
        "prompt = input(\"Suporte TopPortaria: Olá! Estou aqui para te auxiliar com qualquer dúvida que você tenha sobre o TopPortaria. Pode perguntar!\\n\")\n",
        "\n",
        "while prompt != \"fim\":\n",
        "  resposta = convo.send_message(prompt)\n",
        "  print(\"\\n\\nResposta: \\n\", resposta.text, \"\\n\\n\")\n",
        "  prompt = input(\"Suporte RopPortaria: Teria outra pergunta? Estou aqui para ajudar! Para finalizar digite fim \\n\")"
      ],
      "metadata": {
        "id": "7sJnaM1BVY-9",
        "colab": {
          "base_uri": "https://localhost:8080/",
          "height": 992
        },
        "outputId": "5c703537-8967-4b09-f9bd-c5884de087fe"
      },
      "execution_count": null,
      "outputs": [
        {
          "name": "stdout",
          "output_type": "stream",
          "text": [
            "Suporte TopPortaria: Olá! Estou aqui para te auxiliar com qualquer dúvida que você tenha sobre o TopPortaria. Pode perguntar!\n",
            "O que é o TopPortaria?\n",
            "\n",
            "\n",
            "Resposta: \n",
            " O TopPortaria é um software desenvolvido pela Topdata para controle de acesso em condomínios  e portarias. Possui uma interface moderna e recursos realmente úteis para controlar a portaria do seu condomínio, como:\n",
            "\n",
            "* **Controle de acesso de pessoas e visitantes:** Cadastre moradores, visitantes, funcionários e defina as permissões de acesso de cada um.\n",
            "* **Integração com catracas e coletores:** Controle o acesso através de catracas e coletores Topdata.\n",
            "* **Monitoramento em tempo real:** Acompanhe os eventos de acesso em tempo real, com informações sobre quem entrou, saiu ou teve o acesso bloqueado.\n",
            "* **Limite de pessoas por local:** Permite configurar um limite máximo de pessoas em cada área do condomínio, ajudando a evitar aglomerações.\n",
            "* **Relatórios completos:** Gere relatórios de horários, pessoas, acessos, presenças e visitas.\n",
            "* **Cadastro de digitais:** Cadastre as digitais dos moradores e visitantes para um controle de acesso ainda mais seguro.\n",
            "* **Backup e restauração:** Faça backup dos dados do sistema e restaure-os quando necessário.\n",
            "\n",
            "O TopPortaria é uma solução completa para o controle de acesso do seu condomínio, proporcionando segurança, organização e praticidade! 😊 \n",
            " \n",
            "\n",
            "\n",
            "Suporte RopPortaria: Teria outra pergunta? Estou aqui para ajudar! Para finalizar digite fim \n",
            "Como faço para cadastrar uma pessoa no sistema?\n",
            "\n",
            "\n",
            "Resposta: \n",
            " Para cadastrar uma pessoa no TopPortaria, siga estes passos:\n",
            "\n",
            "1. **Acesse o menu \"Cadastros\" e clique em \"Pessoas\".**\n",
            "2. **Clique no botão \"Incluir\".**\n",
            "3. **Preencha os campos da aba \"Dados pessoais\":**\n",
            "    * **Nome:** Nome completo da pessoa.\n",
            "    * **Exibição:** Nome que aparecerá na catraca (pode ser abreviado).\n",
            "    * **Cartão:** Selecione o número do cartão que será associado à pessoa.\n",
            "    * **Perfil de Acesso:** Selecione o perfil de acesso que define as permissões da pessoa.\n",
            "    * **CPF:** Digite o CPF da pessoa (obrigatório se a opção estiver habilitada em \"Registro > Configurações\").\n",
            "    * **RG:** Digite o RG da pessoa.\n",
            "    * **Telefone:** Digite o telefone da pessoa com DDD.\n",
            "    * **Deseja Controlar Validade:** Marque esta opção se deseja definir um prazo de validade para o acesso da pessoa.\n",
            "    * **Observação:** Campo para adicionar informações adicionais sobre a pessoa.\n",
            "    * **Foto:** Clique em \"Arquivo\" para adicionar uma foto salva no computador ou em \"Webcam\" para tirar uma foto com a webcam.\n",
            "4. **Clique em \"Salvar\" para finalizar o cadastro.**\n",
            "\n",
            "**Dicas:**\n",
            "\n",
            "* Você pode cadastrar um novo cartão diretamente na tela de cadastro de pessoas. Para isso, digite o número do cartão no campo \"Cartão\" e pressione \"Enter\".\n",
            "* Para garantir um controle de acesso eficiente, configure corretamente os perfis de acesso e associe-os às pessoas cadastradas.\n",
            "\n",
            "Com este passo a passo, você poderá cadastrar os moradores, funcionários e outras pessoas que precisam ter acesso ao seu condomínio de forma rápida e fácil! 😉 \n",
            " \n",
            "\n",
            "\n",
            "Suporte RopPortaria: Teria outra pergunta? Estou aqui para ajudar! Para finalizar digite fim \n",
            "fim\n"
          ]
        }
      ]
    }
  ]
}